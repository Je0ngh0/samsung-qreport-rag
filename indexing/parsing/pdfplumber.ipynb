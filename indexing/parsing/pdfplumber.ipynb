{
 "cells": [
  {
   "cell_type": "code",
   "execution_count": 2,
   "id": "b7f87568",
   "metadata": {},
   "outputs": [],
   "source": [
    "from langchain_community.document_loaders import PDFPlumberLoader\n",
    "\n",
    "loader = PDFPlumberLoader(\"../../data/raw/[삼성전자]분기보고서(2025.05.15).pdf\")\n",
    "docs = loader.load()"
   ]
  },
  {
   "cell_type": "code",
   "execution_count": null,
   "id": "8a38e537",
   "metadata": {},
   "outputs": [
    {
     "name": "stdout",
     "output_type": "stream",
     "text": [
      "7. 기타 참고사항\n",
      "가. 지적재산권 관련\n",
      "당사는 R&D 활동의 지적재산화에도 집중하여 1984년 최초로 미국에 특허를 등록한이래 현\n",
      "재 세계적으로 총 270,618건의 특허를 보유하고 있으며, 특히 미국에서의 분쟁에 효과적으\n",
      "로 대응하고자 미국에서 가장 많은 특허를 보유하고 있습니다.\n",
      "[국가별 등록 건수(2025년 1분기말 현재,연결 기준)] (단위 : 건)\n",
      "구분 한국 미국 유럽 중국 일본 기타국가 계\n",
      "등록건수 63,654 100,655 48,391 29,615 8,768 19,535 270,618\n",
      "2025년 1분기 중 총 9조원의 R&D투자를 통해 국내 특허 2,364건, 미국 특허 2,357건 등을\n",
      "등록하였습니다.\n",
      "[주요 국가 연도별 특허등록 건수] (단위 : 건)\n",
      "구 분 2025년 1분기 2024년 2023년\n",
      "한 국 2,364 7,806 8,908\n",
      "미 국 2,357 9,227 8,958\n",
      "이 지적재산권은 대부분 스마트폰, 스마트 TV, 메모리, System LSI 등에 관한 특허로서 당\n",
      "사 전략사업 제품에 쓰이거나 향후 활용될 예정이며, 사업 보호의 역할뿐만 아니라 유사 기\n",
      "술ㆍ특허가 난립하는 상황에서 경쟁사 견제의 역할도 하고 있습니다. 또한, 미래 신기술 관련\n",
      "선행 특허 확보를 통하여 향후 신규 사업 진출 시 사업 보호의 역할이 기대되고 있습니다. 당\n",
      "사는 Google(2014.01.체결), Ericsson(2021.05.), Qualcomm(2022.07.),\n",
      "Huawei(2022.07.), Nokia(2023.01.) 등과의 특허 라이선스 체결을 통하여, 모바일, 반도체\n",
      "등 당사 주력사업 및 신사업 분야에서 광범위한 특허 보호망을 확보하고 있습니다.\n",
      "당사는 상기 특허뿐만 아니라 스마트폰, 스마트 TV 등에 적용된 당사 고유 디자인을보호하\n",
      "고자 디자인특허 확보도 강화하여, 2025년 1분기 중 미국에서 85건의 디자인특허(Design\n",
      "Patent)를 취득하였습니다.\n",
      "전자공시시스템 dart.fss.or.kr Page 30\n",
      "\n"
     ]
    }
   ],
   "source": [
    "print(docs[32].page_content)"
   ]
  },
  {
   "cell_type": "code",
   "execution_count": null,
   "id": "74c5d23f",
   "metadata": {},
   "outputs": [],
   "source": [
    "import json\n",
    "\n",
    "docs_dict = [doc.model_dump() for doc in docs]\n",
    "with open(\"../../data/parsed/pdfplumber.json\", \"w\", encoding=\"utf-8\") as f:\n",
    "    json.dump(docs_dict, f, ensure_ascii=False, indent=2)"
   ]
  },
  {
   "cell_type": "code",
   "execution_count": null,
   "id": "15734511",
   "metadata": {},
   "outputs": [
    {
     "name": "stdout",
     "output_type": "stream",
     "text": [
      "<class 'list'> <class 'langchain_core.documents.base.Document'>\n"
     ]
    }
   ],
   "source": [
    "import json\n",
    "from langchain_core.documents import Document\n",
    "\n",
    "with open(\"../../data/parsed/pdfplumber.json\", \"r\", encoding=\"utf-8\") as f:\n",
    "    docs_dict = json.load(f) \n",
    "\n",
    "docs = [Document(**d) for d in docs_dict]"
   ]
  }
 ],
 "metadata": {
  "kernelspec": {
   "display_name": "venv",
   "language": "python",
   "name": "python3"
  },
  "language_info": {
   "codemirror_mode": {
    "name": "ipython",
    "version": 3
   },
   "file_extension": ".py",
   "mimetype": "text/x-python",
   "name": "python",
   "nbconvert_exporter": "python",
   "pygments_lexer": "ipython3",
   "version": "3.12.11"
  }
 },
 "nbformat": 4,
 "nbformat_minor": 5
}
