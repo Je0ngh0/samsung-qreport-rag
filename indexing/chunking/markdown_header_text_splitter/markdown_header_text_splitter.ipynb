{
 "cells": [
  {
   "cell_type": "code",
   "execution_count": 1,
   "id": "0dabb69a",
   "metadata": {},
   "outputs": [],
   "source": [
    "import json\n",
    "from langchain_core.documents import Document\n",
    "\n",
    "output_file = \"../../../data/parsed/multimodal.jsonl\"\n",
    "\n",
    "docs = []\n",
    "with open(output_file, \"r\", encoding=\"utf-8\") as f:\n",
    "    for line in f:\n",
    "        d = json.loads(line) \n",
    "        docs.append(Document(**d))"
   ]
  },
  {
   "cell_type": "code",
   "execution_count": 3,
   "id": "722590e3",
   "metadata": {},
   "outputs": [],
   "source": [
    "from langchain_text_splitters import MarkdownHeaderTextSplitter\n",
    "\n",
    "headers_to_split_on = [\n",
    "    (\n",
    "        \"#\",\n",
    "        \"Header 1\",\n",
    "    ),\n",
    "    (\n",
    "        \"##\",\n",
    "        \"Header 2\",\n",
    "    ),\n",
    "    (\n",
    "        \"###\",\n",
    "        \"Header 3\",\n",
    "    ),\n",
    "]\n",
    "\n",
    "markdown_splitter = MarkdownHeaderTextSplitter(headers_to_split_on=headers_to_split_on, strip_headers=False,)\n",
    "\n",
    "output_file = \"../../../data/chunked/markdown_header_text_splitter/markdown_header_text_splitter.jsonl\"\n",
    "\n",
    "for doc in docs:\n",
    "    md_header_splits = markdown_splitter.split_text(doc.page_content)\n",
    "    # 분할된 결과를 출력합니다.\n",
    "    for header in md_header_splits:\n",
    "        header.metadata.update(doc.metadata)\n",
    "\n",
    "        record = {\n",
    "            \"page_content\": header.page_content,\n",
    "            \"metadata\": header.metadata\n",
    "        }\n",
    "\n",
    "        with open(output_file, \"a\", encoding=\"utf-8\") as f:\n",
    "            f.write(json.dumps(record, ensure_ascii=False) + \"\\n\")\n"
   ]
  },
  {
   "cell_type": "code",
   "execution_count": 1,
   "id": "bd0b6e49",
   "metadata": {},
   "outputs": [],
   "source": [
    "import json\n",
    "from langchain_core.documents import Document\n",
    "\n",
    "output_file = \"../../../data/chunked/markdown_header_text_splitter/markdown_header_text_splitter.jsonl\"\n",
    "\n",
    "docs = []\n",
    "with open(output_file, \"r\", encoding=\"utf-8\") as f:\n",
    "    for line in f:\n",
    "        d = json.loads(line) \n",
    "        docs.append(Document(**d))"
   ]
  },
  {
   "cell_type": "code",
   "execution_count": 21,
   "id": "dc51abfb",
   "metadata": {},
   "outputs": [
    {
     "name": "stdout",
     "output_type": "stream",
     "text": [
      "## 바. 조건부자본증권 미상환 잔액  \n",
      "해당사항 없습니다.  \n",
      "(기준일 : 2025년 03월 31일)\n",
      "(단위 : 백만원)  \n",
      "| 잔여만기 | 1년 이하 | 1년초과 2년이하 | 2년초과 3년이하 | 3년초과 4년이하 | 4년초과 5년이하 | 5년초과 10년이하 | 10년초과 20년이하 | 20년초과 30년이하 | 30년초과 | 합계 |\n",
      "|---|---:|---:|---:|---:|---:|---:|---:|---:|---:|---:|\n",
      "| 미상환 |  |  |  |  |  |  |  |  |  |  |\n",
      "| 공모 | - | - | - | - | - | - | - | - | - | - |\n",
      "| 사모 | - | - | - | - | - | - | - | - | - | - |\n",
      "| 잔액 합계 | - | - | - | - | - | - | - | - | - | - |  \n",
      "---\n",
      "\n",
      " ---------------------------------------------------------------------------------------------------- 페이지 나눔 ---------------------------------------------------------------------------------------------------- \n",
      "\n",
      "## 사. 사채관리계약 주요내용 및 충족여부 등(삼성전자)  \n",
      "(작성기준일 : 2025년 03월 31일)\n",
      "(단위 : 백만원, %)  \n",
      "| 채권명 | 발행일 | 만기일 | 발행액 | 사채관리 계약체결일 | 사채관리회사 |\n",
      "|---|---:|---:|---:|---:|---|\n",
      "| US$ 100,000,000 7.7% Debenture | 1997.10.02 | 2027.10.01 | 146,650 | 1997.10.02 | The Bank of New York Mellon Trust Company, N.A. |  \n",
      "(이행현황기준일 : 2025.03.31)  \n",
      "| 항목 | 계약내용 | 이행현황 |\n",
      "|---|---|---|\n",
      "| 재무비율 유지현황 | 해당사항 없음 | 해당사항 없음 |\n",
      "| 담보권설정 제한현황 | 순유형자산의 10% 미만 | 계약내용 이행 중 (해당 자산에 대해 담보권 설정 없음) |\n",
      "| 자산처분 제한현황 | (보증인이) 자산의 전부 또는 대부분을 처분하려면 본채권에 대한 의무사항 승계 등 조건을 충족시켜야 함 | 계약내용 이행 중 (2024년 중 처분 자산은 전체의 0.0%) |\n",
      "| 지배구조변경 제한현황 | 해당사항 없음 | 해당사항 없음 |\n",
      "| 이행상황보고서 제출현황 |  | 해당사항 없음 |  \n",
      "※ 발행액은 기준일 환율을 적용하였습니다.\n",
      "※ 사채관리계약 체결일은 Fiscal Agency Agreement 체결일로서, The Bank of New York Mellon Trust Company, N.A.는 Fiscal Agent의 지위에 있습니다.\n",
      "※ 담보권설정 제한자산인 순유형자산은 생산설비 및 본사 보유주식입니다.\n",
      "※ 이행현황기준일은 이행현황 판단 시 적용한 회계감사인의 감사의견(확인 및 의견표시)이 표명된 가장 최근 재무제표의 작성기준일입니다.\n",
      "※ 지배구조변경 제한현황은 공시서류 작성기준일입니다.  \n",
      "전자공시시스템 dart.fss.or.kr                                        Page 173\n",
      "\n",
      " ---------------------------------------------------------------------------------------------------- 페이지 나눔 ---------------------------------------------------------------------------------------------------- \n",
      "\n"
     ]
    }
   ],
   "source": [
    "for i, doc in enumerate(docs):\n",
    "    if doc.metadata[\"page\"] == 176:\n",
    "        print(doc.page_content)\n",
    "        print(\"\\n\",\"-\"*100,\"페이지 나눔\",\"-\"*100,\"\\n\")"
   ]
  }
 ],
 "metadata": {
  "kernelspec": {
   "display_name": "venv",
   "language": "python",
   "name": "python3"
  },
  "language_info": {
   "codemirror_mode": {
    "name": "ipython",
    "version": 3
   },
   "file_extension": ".py",
   "mimetype": "text/x-python",
   "name": "python",
   "nbconvert_exporter": "python",
   "pygments_lexer": "ipython3",
   "version": "3.12.11"
  }
 },
 "nbformat": 4,
 "nbformat_minor": 5
}
