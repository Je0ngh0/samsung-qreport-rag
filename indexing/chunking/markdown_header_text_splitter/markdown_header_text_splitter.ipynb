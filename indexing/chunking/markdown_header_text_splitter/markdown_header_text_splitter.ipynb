{
 "cells": [
  {
   "cell_type": "code",
   "execution_count": 1,
   "id": "0dabb69a",
   "metadata": {},
   "outputs": [],
   "source": [
    "import json\n",
    "from langchain_core.documents import Document\n",
    "\n",
    "output_file = \"../../../data/parsed/multimodal.jsonl\"\n",
    "\n",
    "docs = []\n",
    "with open(output_file, \"r\", encoding=\"utf-8\") as f:\n",
    "    for line in f:\n",
    "        d = json.loads(line) \n",
    "        docs.append(Document(**d))"
   ]
  },
  {
   "cell_type": "code",
   "execution_count": 3,
   "id": "722590e3",
   "metadata": {},
   "outputs": [],
   "source": [
    "from langchain_text_splitters import MarkdownHeaderTextSplitter\n",
    "\n",
    "headers_to_split_on = [\n",
    "    (\n",
    "        \"#\",\n",
    "        \"Header 1\",\n",
    "    ),\n",
    "    (\n",
    "        \"##\",\n",
    "        \"Header 2\",\n",
    "    ),\n",
    "    (\n",
    "        \"###\",\n",
    "        \"Header 3\",\n",
    "    ),\n",
    "]\n",
    "\n",
    "markdown_splitter = MarkdownHeaderTextSplitter(headers_to_split_on=headers_to_split_on, strip_headers=False,)\n",
    "\n",
    "output_file = \"../../../data/chunked/markdown_header_text_splitter/markdown_header_text_splitter.jsonl\"\n",
    "\n",
    "for doc in docs:\n",
    "    md_header_splits = markdown_splitter.split_text(doc.page_content)\n",
    "    # 분할된 결과를 출력합니다.\n",
    "    for header in md_header_splits:\n",
    "        header.metadata.update(doc.metadata)\n",
    "\n",
    "        record = {\n",
    "            \"page_content\": header.page_content,\n",
    "            \"metadata\": header.metadata\n",
    "        }\n",
    "\n",
    "        with open(output_file, \"a\", encoding=\"utf-8\") as f:\n",
    "            f.write(json.dumps(record, ensure_ascii=False) + \"\\n\")\n"
   ]
  },
  {
   "cell_type": "code",
   "execution_count": null,
   "id": "bd0b6e49",
   "metadata": {},
   "outputs": [],
   "source": [
    "import json\n",
    "from langchain_core.documents import Document\n",
    "\n",
    "docs = []\n",
    "with open(\"split_documents.jsonl\", \"r\", encoding=\"utf-8\") as f:\n",
    "    for line in f:\n",
    "        d = json.loads(line) \n",
    "        docs.append(Document(**d))"
   ]
  }
 ],
 "metadata": {
  "kernelspec": {
   "display_name": "venv",
   "language": "python",
   "name": "python3"
  },
  "language_info": {
   "codemirror_mode": {
    "name": "ipython",
    "version": 3
   },
   "file_extension": ".py",
   "mimetype": "text/x-python",
   "name": "python",
   "nbconvert_exporter": "python",
   "pygments_lexer": "ipython3",
   "version": "3.12.11"
  }
 },
 "nbformat": 4,
 "nbformat_minor": 5
}
