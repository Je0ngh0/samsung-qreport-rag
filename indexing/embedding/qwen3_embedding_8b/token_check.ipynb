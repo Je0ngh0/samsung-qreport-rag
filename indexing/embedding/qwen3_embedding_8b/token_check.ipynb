{
 "cells": [
  {
   "cell_type": "code",
   "execution_count": 3,
   "id": "cdf093f6",
   "metadata": {},
   "outputs": [],
   "source": [
    "import json\n",
    "from langchain_core.documents import Document\n",
    "\n",
    "output_file = \"../../../data/chunked/markdown_header_text_splitter/markdown_header_text_splitter.jsonl\"\n",
    "\n",
    "docs = []\n",
    "with open(output_file, \"r\", encoding=\"utf-8\") as f:\n",
    "    for line in f:\n",
    "        d = json.loads(line) \n",
    "        docs.append(Document(**d))"
   ]
  },
  {
   "cell_type": "code",
   "execution_count": 5,
   "id": "ef35d9f4",
   "metadata": {},
   "outputs": [],
   "source": [
    "from transformers import AutoTokenizer\n",
    "\n",
    "MODEL_ID = \"Qwen/Qwen3-Embedding-8B\"\n",
    "\n",
    "tokenizer = AutoTokenizer.from_pretrained(MODEL_ID, padding_side=\"left\")\n",
    "\n",
    "texts = [doc.page_content for doc in docs]\n",
    "\n",
    "# truncation=True로 설정하면 모델 컨텍스트(32k) 초과분은 잘립니다.\n",
    "enc = tokenizer(\n",
    "    texts,\n",
    "    padding=False,        # 배치 토큰 합산이 아니라 각 문장 실제 토큰 수를 보려면 False\n",
    "    truncation=True,\n",
    "    return_attention_mask=False,\n",
    "    add_special_tokens=True,  # [BOS]/[EOS] 등 모델이 기대하는 스페셜 토큰 포함\n",
    ")\n",
    "\n",
    "# 각 입력의 실제 토큰 수\n",
    "token_counts = [len(ids) for ids in enc[\"input_ids\"]]\n",
    "total_tokens = sum(token_counts)"
   ]
  },
  {
   "cell_type": "code",
   "execution_count": 6,
   "id": "bc047600",
   "metadata": {},
   "outputs": [
    {
     "data": {
      "image/png": "[encoded data removed]",
      "text/plain": [
       "<Figure size 1200x400 with 1 Axes>"
      ]
     },
     "metadata": {},
     "output_type": "display_data"
    }
   ],
   "source": [
    "import matplotlib.pyplot as plt\n",
    "\n",
    "plt.figure(figsize=(12, 4))\n",
    "plt.bar(range(len(token_counts)), token_counts)\n",
    "plt.xlabel(\"Document Index\")     # 문서 인덱스\n",
    "plt.ylabel(\"Token Count\")        # 토큰 수\n",
    "plt.title(\"Token Length per Document\")  # 문서별 토큰 길이\n",
    "plt.show()"
   ]
  },
  {
   "cell_type": "code",
   "execution_count": 7,
   "id": "2131bc4b",
   "metadata": {},
   "outputs": [
    {
     "name": "stdout",
     "output_type": "stream",
     "text": [
      "{'idx': 682, 'tokens': 2507, 'metadata': {'Header 1': 'X. 대주주 등과의 거래내용', 'Header 2': '1. 대주주 등에 대한 신용공여 등', 'source': '../../data/raw/[삼성전자]분기보고서(2025.05.15).pdf', 'page': 271, 'total_pages': 302}, 'preview': '# X. 대주주 등과의 거래내용   ## 1. 대주주 등에 대한 신용공여 등   당사는 2025년 1분기말 현재 Samsung Electronics America, Inc. (SEA) 등 해외종속법인의 유연한 자금조달을 위하여 통합채무보증을 제공하고 있습니다   (단위 : 천US$, %)   | 법인명 (채무자) | 관계 | 채권자 | 내용 | 목적 | 보'}\n",
      "{'idx': 688, 'tokens': 2439, 'metadata': {'Header 1': '4. 채무보증내역', 'source': '../../data/raw/[삼성전자]분기보고서(2025.05.15).pdf', 'page': 275, 'total_pages': 302}, 'preview': '# 4. 채무보증내역   (단위 : 천 US$, %)   | 법인명(채무자) | 관계 | 채권자 | 내용 | 목적 | 보증시작일 | 보증종료일 | 채무보증한도(기초) | 채무보증한도(기말) | 채무금액(기초) | 채무금액(증감) | 채무금액(기말) | 이자율 | |---|---|---|---|---:|---:|---:|---:|---:|---:|---:|-'}\n",
      "{'idx': 458, 'tokens': 2432, 'metadata': {'Header 1': '(채무보증 내역)', 'Header 2': '2) 해외채무보증', 'source': '../../data/raw/[삼성전자]분기보고서(2025.05.15).pdf', 'page': 180, 'total_pages': 302}, 'preview': '## 2) 해외채무보증   (단위 : 천US$, %)   | 법인명 (채무자) | 관계 | 채권자 | 내용 | 목적 | 보증시작일 | 보증종료일 | 채무보증한도 기초 | 채무보증한도 기말 | 채무금액 기초 | 채무금액 증감 | 채무금액 기말 | 이자율 | |---|---|---|---|---:|---:|---:|---:|---:|---:|---:|---:|'}\n",
      "{'idx': 644, 'tokens': 1968, 'metadata': {'Header 2': 'Page 254', 'source': '../../data/raw/[삼성전자]분기보고서(2025.05.15).pdf', 'page': 257, 'total_pages': 302}, 'preview': '## Page 254   | 이름 | 성별 | 생년월 | 직위 | 근무형태 | 담당업무(주요) | 담당업무(세부) | 이전/기타 경력 | 학력 | 구분 | 비고 | |---|---:|---:|---|---|---|---|---|---|---|---| | 이선회 | 여 | 1975.08 | 상무 | 상근 | 글로벌마케팅실 CX센터 담당임원 | CX·MDE센터'}\n",
      "{'idx': 610, 'tokens': 1915, 'metadata': {'source': '../../data/raw/[삼성전자]분기보고서(2025.05.15).pdf', 'page': 249, 'total_pages': 302}, 'preview': '- 박찬형 | 남 | 1973.06 | 상무 | 상근 | 영상디스플레이 영상전략마케팅팀 담당임원 | 영상디스플레이 Enterprise Business팀 담당임원 | City Univ. of New York(석사) | 계열회사 임원 | 28 - 박창서 | 남 | 1980.06 | 상무 | 상근 | AI센터 담당임원 | 혁신센터 담당임원 | Univ. of C'}\n"
     ]
    }
   ],
   "source": [
    "import heapq\n",
    "\n",
    "top_k = 5\n",
    "# 각 doc의 (index, token_count) 준비\n",
    "indexed_counts = list(enumerate(token_counts))  # [(0, 123), (1, 456), ...]\n",
    "\n",
    "# 토큰 수 기준 상위 5개 인덱스/카운트\n",
    "top5 = heapq.nlargest(top_k, indexed_counts, key=lambda x: x[1])\n",
    "\n",
    "# 보기 좋게 정리\n",
    "top5_docs = [\n",
    "    {\n",
    "        \"idx\": i,\n",
    "        \"tokens\": cnt,\n",
    "        \"metadata\": docs[i].metadata,\n",
    "        \"preview\": docs[i].page_content[:200].replace(\"\\n\", \" \")\n",
    "    }\n",
    "    for i, cnt in top5\n",
    "]\n",
    "\n",
    "for item in top5_docs:\n",
    "    print(item)"
   ]
  },
  {
   "cell_type": "code",
   "execution_count": 9,
   "id": "0e929d4b",
   "metadata": {},
   "outputs": [
    {
     "name": "stdout",
     "output_type": "stream",
     "text": [
      "# X. 대주주 등과의 거래내용  \n",
      "## 1. 대주주 등에 대한 신용공여 등  \n",
      "당사는 2025년 1분기말 현재 Samsung Electronics America, Inc. (SEA) 등 해외종속법인의 유연한 자금조달을 위하여 통합채무보증을 제공하고 있습니다  \n",
      "(단위 : 천US$, %)  \n",
      "| 법인명 (채무자) | 관계 | 채권자 | 내용 | 목적 | 보증시작일 | 보증종료일 | 채무보증한도(기초) | 채무보증한도(기말) | 채무금액(기초) | 채무금액(증감) | 채무금액(기말) | 이자율 |\n",
      "|---|---|---|---|---:|---:|---:|---:|---:|---:|---:|---:|---|\n",
      "| SEA | 계열회사 | BOA 등 | 지급보증 | 운영자금 | 2024.04.20 | 2025.11.08 | 1,278,000 | 1,278,000 | - | - | - | - |\n",
      "| SEM | 계열회사 | BBVA 등 | 지급보증 | 운영자금 | 2024.03.28 | 2025.12.16 | 715,000 | 715,000 | - | - | - | - |\n",
      "| SAMCOL | 계열회사 | Citibank 등 | 지급보증 | 운영자금 | 2024.06.14 | 2025.12.16 | 210,000 | 210,000 | - | - | - | - |\n",
      "| SEDA | 계열회사 | BRADESCO 등 | 지급보증 | 운영자금 | 2024.10.01 | 2025.12.16 | 329,000 | 329,000 | - | - | - | - |\n",
      "| SECH | 계열회사 | Citibank 등 | 지급보증 | 운영자금 | 2024.06.14 | 2025.12.16 | 62,000 | 64,000 | - | - | - | - |\n",
      "| SEPR | 계열회사 | BBVA 등 | 지급보증 | 운영자금 | 2024.06.01 | 2025.12.16 | 150,000 | 150,000 | - | - | - | - |\n",
      "| SSA | 계열회사 | SCB 등 | 지급보증 | 운영자금 | 2024.06.14 | 2025.12.16 | 318,000 | 286,000 | - | - | - | - |\n",
      "| SEMAG | 계열회사 | SocGen 등 | 지급보증 | 운영자금 | 2024.11.09 | 2025.12.16 | 46,000 | 46,000 | - | - | - | - |\n",
      "| SETK | 계열회사 | BNP 등 | 지급보증 | 운영자금 | 2024.06.14 | 2025.12.16 | 947,000 | 947,000 | 495,321 | △149,623 | 345,699 | 46.9% |\n",
      "| SETK-P | 계열회사 | BNP 등 | 지급보증 | 운영자금 | 2024.11.09 | 2025.12.16 | 70,000 | 70,000 | - | - | - | - |\n",
      "| SECE | 계열회사 | Citibank | 지급보증 | 운영자금 | 2024.12.17 | 2025.12.16 | 114,000 | 114,000 | - | - | - | - |\n",
      "| SEEG | 계열회사 | HSBC | 지급보증 | 운영자금 | 2024.06.14 | 2025.06.13 | 85,000 | 85,000 | - | - | - | - |\n",
      "| SEIN | 계열회사 | BNP 등 | 지급보증 | 운영자금 | 2024.06.14 | 2025.11.08 | 70,000 | 70,000 | - | - | - | - |\n",
      "| SJC | 계열회사 | Mizuho Bank 등 | 지급보증 | 운영자금 | 2024.04.28 | 2025.12.16 | 808,270 | 820,741 | - | - | - | - |\n",
      "| SEUC | 계열회사 | Credit Agricole 등 | 지급보증 | 운영자금 | 2024.06.14 | 2025.12.16 | 125,000 | 115,000 | - | - | - | - |\n",
      "| SEDAM | 계열회사 | Citibank 등 | 지급보증 | 운영자금 | 2024.06.14 | 2025.12.16 | 537,000 | 537,000 | - | - | - | - |\n",
      "| SECA | 계열회사 | BOA | 지급보증 | 운영자금 | 2024.11.09 | 2025.11.08 | 70,000 | 70,000 | - | - | - | - |\n",
      "| SELA | 계열회사 | Citibank | 지급보증 | 운영자금 | 2024.12.17 | 2025.12.16 | 60,000 | 60,000 | - | - | - | - |\n",
      "| SEEH | 계열회사 | HSBC 등 | 지급보증 | 운영자금 | 2024.06.14 | 2025.12.16 | 906,400 | 938,400 | - | - | - | - |\n",
      "| SELV | 계열회사 | Citibank | 지급보증 | 운영자금 | 2024.12.17 | 2025.12.16 | 10,000 | 10,000 | - | - | - | - |\n",
      "| SEIL | 계열회사 | Citibank | 지급보증 | 운영자금 | 2024.12.17 | 2025.12.16 | 15,600 | 15,600 | - | - | - | - |\n",
      "| SAPL | 계열회사 | BOA 등 | 지급보증 | 운영자금 | 2024.06.14 | 2025.12.16 | 404,000 | 404,000 | - | - | - | - |\n",
      "| SAVINA | 계열회사 | HSBC | 지급보증 | 운영자금 | 2024.06.14 | 2025.06.13 | 51,000 | 51,000 | - | - | - | - |\n",
      "| SCIC | 계열회사 | HSBC 등 | 지급보증 | 운영자금 | 2024.06.14 | 2025.12.16 | 270,000 | 270,000 | - | - | - | - |\n",
      "| SESP | 계열회사 | SCB | 지급보증 | 운영자금 | 2024.11.09 | 2025.11.08 | 30,000 | 30,000 | - | - | - | - |\n",
      "| SME | 계열회사 | SCB | 지급보증 | 운영자금 | 2024.11.09 | 2025.11.08 | 110,000 | 110,000 | - | - | - | - |\n",
      "| SAMEX | 계열회사 | Citibank | 지급보증 | 운영자금 | 2024.12.17 | 2025.12.16 | 5,000 | 5,000 | - | - | - | - |\n",
      "| SEASA | 계열회사 | Citibank | 지급보증 | 운영자금 | 2024.12.17 | 2025.12.16 | 2,000 | 2,000 | - | - | - | - |\n",
      "| SSAP | 계열회사 | SCB | 지급보증 | 운영자금 | 2024.11.09 | 2025.11.08 | 35,000 | 35,000 | - | - | - | - |\n",
      "| SEPM | 계열회사 | HSBC | 지급보증 | 운영자금 | 2024.06.14 | 2025.06.13 | 35,000 | 35,000 | - | - | - | - |\n",
      "| SESAR | 계열회사 | HSBC | 지급보증 | 운영자금 | 2024.06.14 | 2025.06.13 | 20,000 | 20,000 | - | - | - | - |\n",
      "| SEUZ | 계열회사 | Citibank | 지급보증 | 운영자금 | 2024.12.17 | 2025.12.16 | 10,000 | 20,000 | - | - | - | - |  \n",
      "전자공시시스템 dart.fss.or.kr  \n",
      "Page 268\n"
     ]
    }
   ],
   "source": [
    "print(docs[682].page_content)"
   ]
  },
  {
   "cell_type": "markdown",
   "id": "9d275f81",
   "metadata": {},
   "source": [
    "# X. 대주주 등과의 거래내용  \n",
    "## 1. 대주주 등에 대한 신용공여 등  \n",
    "당사는 2025년 1분기말 현재 Samsung Electronics America, Inc. (SEA) 등 해외종속법인의 유연한 자금조달을 위하여 통합채무보증을 제공하고 있습니다  \n",
    "(단위 : 천US$, %)  \n",
    "| 법인명 (채무자) | 관계 | 채권자 | 내용 | 목적 | 보증시작일 | 보증종료일 | 채무보증한도(기초) | 채무보증한도(기말) | 채무금액(기초) | 채무금액(증감) | 채무금액(기말) | 이자율 |\n",
    "|---|---|---|---|---:|---:|---:|---:|---:|---:|---:|---:|---|\n",
    "| SEA | 계열회사 | BOA 등 | 지급보증 | 운영자금 | 2024.04.20 | 2025.11.08 | 1,278,000 | 1,278,000 | - | - | - | - |\n",
    "| SEM | 계열회사 | BBVA 등 | 지급보증 | 운영자금 | 2024.03.28 | 2025.12.16 | 715,000 | 715,000 | - | - | - | - |\n",
    "| SAMCOL | 계열회사 | Citibank 등 | 지급보증 | 운영자금 | 2024.06.14 | 2025.12.16 | 210,000 | 210,000 | - | - | - | - |\n",
    "| SEDA | 계열회사 | BRADESCO 등 | 지급보증 | 운영자금 | 2024.10.01 | 2025.12.16 | 329,000 | 329,000 | - | - | - | - |\n",
    "| SECH | 계열회사 | Citibank 등 | 지급보증 | 운영자금 | 2024.06.14 | 2025.12.16 | 62,000 | 64,000 | - | - | - | - |\n",
    "| SEPR | 계열회사 | BBVA 등 | 지급보증 | 운영자금 | 2024.06.01 | 2025.12.16 | 150,000 | 150,000 | - | - | - | - |\n",
    "| SSA | 계열회사 | SCB 등 | 지급보증 | 운영자금 | 2024.06.14 | 2025.12.16 | 318,000 | 286,000 | - | - | - | - |\n",
    "| SEMAG | 계열회사 | SocGen 등 | 지급보증 | 운영자금 | 2024.11.09 | 2025.12.16 | 46,000 | 46,000 | - | - | - | - |\n",
    "| SETK | 계열회사 | BNP 등 | 지급보증 | 운영자금 | 2024.06.14 | 2025.12.16 | 947,000 | 947,000 | 495,321 | △149,623 | 345,699 | 46.9% |\n",
    "| SETK-P | 계열회사 | BNP 등 | 지급보증 | 운영자금 | 2024.11.09 | 2025.12.16 | 70,000 | 70,000 | - | - | - | - |\n",
    "| SECE | 계열회사 | Citibank | 지급보증 | 운영자금 | 2024.12.17 | 2025.12.16 | 114,000 | 114,000 | - | - | - | - |\n",
    "| SEEG | 계열회사 | HSBC | 지급보증 | 운영자금 | 2024.06.14 | 2025.06.13 | 85,000 | 85,000 | - | - | - | - |\n",
    "| SEIN | 계열회사 | BNP 등 | 지급보증 | 운영자금 | 2024.06.14 | 2025.11.08 | 70,000 | 70,000 | - | - | - | - |\n",
    "| SJC | 계열회사 | Mizuho Bank 등 | 지급보증 | 운영자금 | 2024.04.28 | 2025.12.16 | 808,270 | 820,741 | - | - | - | - |\n",
    "| SEUC | 계열회사 | Credit Agricole 등 | 지급보증 | 운영자금 | 2024.06.14 | 2025.12.16 | 125,000 | 115,000 | - | - | - | - |\n",
    "| SEDAM | 계열회사 | Citibank 등 | 지급보증 | 운영자금 | 2024.06.14 | 2025.12.16 | 537,000 | 537,000 | - | - | - | - |\n",
    "| SECA | 계열회사 | BOA | 지급보증 | 운영자금 | 2024.11.09 | 2025.11.08 | 70,000 | 70,000 | - | - | - | - |\n",
    "| SELA | 계열회사 | Citibank | 지급보증 | 운영자금 | 2024.12.17 | 2025.12.16 | 60,000 | 60,000 | - | - | - | - |\n",
    "| SEEH | 계열회사 | HSBC 등 | 지급보증 | 운영자금 | 2024.06.14 | 2025.12.16 | 906,400 | 938,400 | - | - | - | - |\n",
    "| SELV | 계열회사 | Citibank | 지급보증 | 운영자금 | 2024.12.17 | 2025.12.16 | 10,000 | 10,000 | - | - | - | - |\n",
    "| SEIL | 계열회사 | Citibank | 지급보증 | 운영자금 | 2024.12.17 | 2025.12.16 | 15,600 | 15,600 | - | - | - | - |\n",
    "| SAPL | 계열회사 | BOA 등 | 지급보증 | 운영자금 | 2024.06.14 | 2025.12.16 | 404,000 | 404,000 | - | - | - | - |\n",
    "| SAVINA | 계열회사 | HSBC | 지급보증 | 운영자금 | 2024.06.14 | 2025.06.13 | 51,000 | 51,000 | - | - | - | - |\n",
    "| SCIC | 계열회사 | HSBC 등 | 지급보증 | 운영자금 | 2024.06.14 | 2025.12.16 | 270,000 | 270,000 | - | - | - | - |\n",
    "| SESP | 계열회사 | SCB | 지급보증 | 운영자금 | 2024.11.09 | 2025.11.08 | 30,000 | 30,000 | - | - | - | - |\n",
    "| SME | 계열회사 | SCB | 지급보증 | 운영자금 | 2024.11.09 | 2025.11.08 | 110,000 | 110,000 | - | - | - | - |\n",
    "| SAMEX | 계열회사 | Citibank | 지급보증 | 운영자금 | 2024.12.17 | 2025.12.16 | 5,000 | 5,000 | - | - | - | - |\n",
    "| SEASA | 계열회사 | Citibank | 지급보증 | 운영자금 | 2024.12.17 | 2025.12.16 | 2,000 | 2,000 | - | - | - | - |\n",
    "| SSAP | 계열회사 | SCB | 지급보증 | 운영자금 | 2024.11.09 | 2025.11.08 | 35,000 | 35,000 | - | - | - | - |\n",
    "| SEPM | 계열회사 | HSBC | 지급보증 | 운영자금 | 2024.06.14 | 2025.06.13 | 35,000 | 35,000 | - | - | - | - |\n",
    "| SESAR | 계열회사 | HSBC | 지급보증 | 운영자금 | 2024.06.14 | 2025.06.13 | 20,000 | 20,000 | - | - | - | - |\n",
    "| SEUZ | 계열회사 | Citibank | 지급보증 | 운영자금 | 2024.12.17 | 2025.12.16 | 10,000 | 20,000 | - | - | - | - |  \n",
    "전자공시시스템 dart.fss.or.kr  \n",
    "Page 268"
   ]
  }
 ],
 "metadata": {
  "kernelspec": {
   "display_name": "venv",
   "language": "python",
   "name": "python3"
  },
  "language_info": {
   "codemirror_mode": {
    "name": "ipython",
    "version": 3
   },
   "file_extension": ".py",
   "mimetype": "text/x-python",
   "name": "python",
   "nbconvert_exporter": "python",
   "pygments_lexer": "ipython3",
   "version": "3.12.11"
  }
 },
 "nbformat": 4,
 "nbformat_minor": 5
}
