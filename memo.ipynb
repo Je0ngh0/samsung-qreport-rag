{
 "cells": [
  {
   "cell_type": "markdown",
   "id": "0962d08c",
   "metadata": {},
   "source": [
    "apt-get install git\n",
    "git config --global user.email \"jeongho.jang0404@gmail.com\"\n",
    "git config --global user.name \"JeonghoJang\"\n",
    "\n",
    "mkdir my-volume\n",
    "cd my-volume\n",
    "\n",
    "git clone https://github.com/Je0ngh0/samsung-qreport-rag.git\n",
    "cd samsung-qreport-rag\n",
    "\n",
    "apt install python3.12-venv -y\n",
    "python3 -m venv venv\n",
    "source venv/bin/activate\n",
    "\n",
    "pip install jupyter ipywidgets\n",
    "pip install notebook\n",
    "pip install langchain\n",
    "pip install langchain-community\n",
    "pip install langchain-experimental\n",
    "pip install -qU langchain-huggingface\n",
    "pip install sentence-transformers\n",
    "pip install bitsandbytes\n",
    "pip install accelerate\n",
    "\n",
    "touch .env"
   ]
  },
  {
   "cell_type": "code",
   "execution_count": 1,
   "id": "3866005b",
   "metadata": {},
   "outputs": [
    {
     "name": "stdout",
     "output_type": "stream",
     "text": [
      "hi\n"
     ]
    }
   ],
   "source": [
    "print(\"hi\")"
   ]
  },
  {
   "cell_type": "code",
   "execution_count": null,
   "id": "f0151791",
   "metadata": {},
   "outputs": [],
   "source": [
    "qwen3_embedding_8b"
   ]
  },
  {
   "cell_type": "code",
   "execution_count": null,
   "id": "3e09578a",
   "metadata": {},
   "outputs": [],
   "source": [
    "import json\n",
    "\n",
    "# 1. 기존 JSON 파일 읽기\n",
    "with open('data.json', 'r', encoding='utf-8') as f:\n",
    "    data = json.load(f)\n",
    "\n",
    "# 2. 새로운 데이터 추가\n",
    "# 기존 데이터가 list 형태라면 append\n",
    "if isinstance(data, list):\n",
    "    data.append({\"name\": \"홍길동\", \"age\": 30})\n",
    "# 기존 데이터가 dict 형태라면 key-value 추가\n",
    "elif isinstance(data, dict):\n",
    "    data[\"new_user\"] = {\"name\": \"홍길동\", \"age\": 30}\n",
    "\n",
    "# 3. 다시 저장 (기존 파일 덮어쓰기)\n",
    "with open('data.json', 'w', encoding='utf-8') as f:\n",
    "    json.dump(data, f, ensure_ascii=False, indent=4)\n",
    "\n",
    "print(\"데이터가 추가되었습니다!\")"
   ]
  }
 ],
 "metadata": {
  "kernelspec": {
   "display_name": "venv",
   "language": "python",
   "name": "python3"
  },
  "language_info": {
   "codemirror_mode": {
    "name": "ipython",
    "version": 3
   },
   "file_extension": ".py",
   "mimetype": "text/x-python",
   "name": "python",
   "nbconvert_exporter": "python",
   "pygments_lexer": "ipython3",
   "version": "3.12.3"
  }
 },
 "nbformat": 4,
 "nbformat_minor": 5
}
