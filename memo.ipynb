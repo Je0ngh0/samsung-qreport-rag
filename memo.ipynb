{
 "cells": [
  {
   "cell_type": "markdown",
   "id": "0962d08c",
   "metadata": {},
   "source": [
    "apt update\n",
    "apt install -y build-essential\n",
    "\n",
    "apt install git-all\n",
    "git config --global user.email \"jeongho.jang0404@gmail.com\"\n",
    "git config --global user.name \"JeonghoJang\"\n",
    "\n",
    "mkdir my-volume\n",
    "cd my-volume\n",
    "\n",
    "git clone https://github.com/Je0ngh0/samsung-qreport-rag.git\n",
    "cd samsung-qreport-rag\n",
    "\n",
    "wget -qO- https://astral.sh/uv/install.sh | sh\n",
    "\n",
    "uv venv --python 3.12 --seed\n",
    "source .venv/bin/activate\n",
    "\n",
    "pip install jupyter ipywidgets jupyterlab_widgets\n",
    "pip install notebook\n",
    "pip install langchain\n",
    "pip install langchain-community\n",
    "pip install langchain-experimental\n",
    "pip install -qU langchain-huggingface\n",
    "pip install sentence-transformers\n",
    "pip install bitsandbytes\n",
    "pip install accelerate\n",
    "pip install matplotlib\n",
    "pip install pdf2image Pillow\n",
    "\n",
    "touch .env"
   ]
  },
  {
   "cell_type": "markdown",
   "id": "ecb19740",
   "metadata": {},
   "source": [
    "export $(cat .env | xargs -d '\\n')"
   ]
  },
  {
   "cell_type": "code",
   "execution_count": 3,
   "id": "fb842c2f",
   "metadata": {},
   "outputs": [
    {
     "ename": "PDFPageCountError",
     "evalue": "Unable to get page count.\nI/O Error: Couldn't open file 'input.pdf': No such file or directory.\n",
     "output_type": "error",
     "traceback": [
      "\u001b[31m---------------------------------------------------------------------------\u001b[39m",
      "\u001b[31mValueError\u001b[39m                                Traceback (most recent call last)",
      "\u001b[36mFile \u001b[39m\u001b[32m~/git/samsung-qreport-rag/venv/lib/python3.12/site-packages/pdf2image/pdf2image.py:602\u001b[39m, in \u001b[36mpdfinfo_from_path\u001b[39m\u001b[34m(pdf_path, userpw, ownerpw, poppler_path, rawdates, timeout, first_page, last_page)\u001b[39m\n\u001b[32m    601\u001b[39m \u001b[38;5;28;01mif\u001b[39;00m \u001b[33m\"\u001b[39m\u001b[33mPages\u001b[39m\u001b[33m\"\u001b[39m \u001b[38;5;129;01mnot\u001b[39;00m \u001b[38;5;129;01min\u001b[39;00m d:\n\u001b[32m--> \u001b[39m\u001b[32m602\u001b[39m     \u001b[38;5;28;01mraise\u001b[39;00m \u001b[38;5;167;01mValueError\u001b[39;00m\n\u001b[32m    604\u001b[39m \u001b[38;5;28;01mreturn\u001b[39;00m d\n",
      "\u001b[31mValueError\u001b[39m: ",
      "\nDuring handling of the above exception, another exception occurred:\n",
      "\u001b[31mPDFPageCountError\u001b[39m                         Traceback (most recent call last)",
      "\u001b[36mCell\u001b[39m\u001b[36m \u001b[39m\u001b[32mIn[3]\u001b[39m\u001b[32m, line 3\u001b[39m\n\u001b[32m      1\u001b[39m \u001b[38;5;28;01mfrom\u001b[39;00m\u001b[38;5;250m \u001b[39m\u001b[34;01mpdf2image\u001b[39;00m\u001b[38;5;250m \u001b[39m\u001b[38;5;28;01mimport\u001b[39;00m convert_from_path\n\u001b[32m----> \u001b[39m\u001b[32m3\u001b[39m images = \u001b[43mconvert_from_path\u001b[49m\u001b[43m(\u001b[49m\n\u001b[32m      4\u001b[39m \u001b[43m    \u001b[49m\u001b[33;43m\"\u001b[39;49m\u001b[33;43minput.pdf\u001b[39;49m\u001b[33;43m\"\u001b[39;49m\u001b[43m,\u001b[49m\n\u001b[32m      5\u001b[39m \u001b[43m    \u001b[49m\u001b[43mdpi\u001b[49m\u001b[43m=\u001b[49m\u001b[32;43m300\u001b[39;49m\u001b[43m,\u001b[49m\n\u001b[32m      6\u001b[39m \u001b[43m    \u001b[49m\u001b[43mfirst_page\u001b[49m\u001b[43m=\u001b[49m\u001b[32;43m163\u001b[39;49m\u001b[43m,\u001b[49m\u001b[43m  \u001b[49m\u001b[38;5;66;43;03m# 시작 페이지 (1-based)\u001b[39;49;00m\n\u001b[32m      7\u001b[39m \u001b[43m    \u001b[49m\u001b[43mlast_page\u001b[49m\u001b[43m=\u001b[49m\u001b[32;43m163\u001b[39;49m\u001b[43m,\u001b[49m\u001b[43m   \u001b[49m\u001b[38;5;66;43;03m# 끝 페이지 (포함)\u001b[39;49;00m\n\u001b[32m      8\u001b[39m \u001b[43m    \u001b[49m\u001b[43mfmt\u001b[49m\u001b[43m=\u001b[49m\u001b[33;43m\"\u001b[39;49m\u001b[33;43mpng\u001b[39;49m\u001b[33;43m\"\u001b[39;49m\n\u001b[32m      9\u001b[39m \u001b[43m)\u001b[49m\n\u001b[32m     11\u001b[39m \u001b[38;5;28;01mfor\u001b[39;00m i, img \u001b[38;5;129;01min\u001b[39;00m \u001b[38;5;28menumerate\u001b[39m(images, start=\u001b[32m5\u001b[39m):\n\u001b[32m     12\u001b[39m     img.save(\u001b[33mf\u001b[39m\u001b[33m\"\u001b[39m\u001b[33mpage_\u001b[39m\u001b[38;5;132;01m{\u001b[39;00mi\u001b[38;5;132;01m}\u001b[39;00m\u001b[33m.png\u001b[39m\u001b[33m\"\u001b[39m)\n",
      "\u001b[36mFile \u001b[39m\u001b[32m~/git/samsung-qreport-rag/venv/lib/python3.12/site-packages/pdf2image/pdf2image.py:127\u001b[39m, in \u001b[36mconvert_from_path\u001b[39m\u001b[34m(pdf_path, dpi, output_folder, first_page, last_page, fmt, jpegopt, thread_count, userpw, ownerpw, use_cropbox, strict, transparent, single_file, output_file, poppler_path, grayscale, size, paths_only, use_pdftocairo, timeout, hide_annotations)\u001b[39m\n\u001b[32m    124\u001b[39m \u001b[38;5;28;01mif\u001b[39;00m \u001b[38;5;28misinstance\u001b[39m(poppler_path, PurePath):\n\u001b[32m    125\u001b[39m     poppler_path = poppler_path.as_posix()\n\u001b[32m--> \u001b[39m\u001b[32m127\u001b[39m page_count = \u001b[43mpdfinfo_from_path\u001b[49m\u001b[43m(\u001b[49m\n\u001b[32m    128\u001b[39m \u001b[43m    \u001b[49m\u001b[43mpdf_path\u001b[49m\u001b[43m,\u001b[49m\u001b[43m \u001b[49m\u001b[43muserpw\u001b[49m\u001b[43m,\u001b[49m\u001b[43m \u001b[49m\u001b[43mownerpw\u001b[49m\u001b[43m,\u001b[49m\u001b[43m \u001b[49m\u001b[43mpoppler_path\u001b[49m\u001b[43m=\u001b[49m\u001b[43mpoppler_path\u001b[49m\n\u001b[32m    129\u001b[39m \u001b[43m\u001b[49m\u001b[43m)\u001b[49m[\u001b[33m\"\u001b[39m\u001b[33mPages\u001b[39m\u001b[33m\"\u001b[39m]\n\u001b[32m    131\u001b[39m \u001b[38;5;66;03m# We start by getting the output format, the buffer processing function and if we need pdftocairo\u001b[39;00m\n\u001b[32m    132\u001b[39m parsed_fmt, final_extension, parse_buffer_func, use_pdfcairo_format = _parse_format(\n\u001b[32m    133\u001b[39m     fmt, grayscale\n\u001b[32m    134\u001b[39m )\n",
      "\u001b[36mFile \u001b[39m\u001b[32m~/git/samsung-qreport-rag/venv/lib/python3.12/site-packages/pdf2image/pdf2image.py:611\u001b[39m, in \u001b[36mpdfinfo_from_path\u001b[39m\u001b[34m(pdf_path, userpw, ownerpw, poppler_path, rawdates, timeout, first_page, last_page)\u001b[39m\n\u001b[32m    607\u001b[39m     \u001b[38;5;28;01mraise\u001b[39;00m PDFInfoNotInstalledError(\n\u001b[32m    608\u001b[39m         \u001b[33m\"\u001b[39m\u001b[33mUnable to get page count. Is poppler installed and in PATH?\u001b[39m\u001b[33m\"\u001b[39m\n\u001b[32m    609\u001b[39m     )\n\u001b[32m    610\u001b[39m \u001b[38;5;28;01mexcept\u001b[39;00m \u001b[38;5;167;01mValueError\u001b[39;00m:\n\u001b[32m--> \u001b[39m\u001b[32m611\u001b[39m     \u001b[38;5;28;01mraise\u001b[39;00m PDFPageCountError(\n\u001b[32m    612\u001b[39m         \u001b[33mf\u001b[39m\u001b[33m\"\u001b[39m\u001b[33mUnable to get page count.\u001b[39m\u001b[38;5;130;01m\\n\u001b[39;00m\u001b[38;5;132;01m{\u001b[39;00merr.decode(\u001b[33m'\u001b[39m\u001b[33mutf8\u001b[39m\u001b[33m'\u001b[39m,\u001b[38;5;250m \u001b[39m\u001b[33m'\u001b[39m\u001b[33mignore\u001b[39m\u001b[33m'\u001b[39m)\u001b[38;5;132;01m}\u001b[39;00m\u001b[33m\"\u001b[39m\n\u001b[32m    613\u001b[39m     )\n",
      "\u001b[31mPDFPageCountError\u001b[39m: Unable to get page count.\nI/O Error: Couldn't open file 'input.pdf': No such file or directory.\n"
     ]
    }
   ],
   "source": [
    "from pdf2image import convert_from_path\n",
    "\n",
    "images = convert_from_path(\n",
    "    \"input.pdf\",\n",
    "    dpi=300,\n",
    "    first_page=163,  # 시작 페이지 (1-based)\n",
    "    last_page=163,   # 끝 페이지 (포함)\n",
    "    fmt=\"png\"\n",
    ")\n",
    "\n",
    "for i, img in enumerate(images, start=5):\n",
    "    img.save(f\"page_{i}.png\")"
   ]
  },
  {
   "cell_type": "code",
   "execution_count": 30,
   "id": "205b9bd1",
   "metadata": {},
   "outputs": [],
   "source": [
    "from pdf2image import convert_from_path\n",
    "\n",
    "file_path = \"./data/raw/[삼성전자]분기보고서(2025.05.15).pdf\"\n",
    "pages_to_get = {1, 3, 10} \n",
    "\n",
    "\n",
    "first_page = 296\n",
    "last_page = first_page\n",
    "\n",
    "images = convert_from_path(\n",
    "    file_path,\n",
    "    dpi=512,\n",
    "    first_page=first_page,  # 시작 페이지 (1-based)\n",
    "    last_page=last_page,   # 끝 페이지 (포함)\n",
    "    fmt=\"png\"\n",
    "    )\n",
    "\n",
    "for i, img in enumerate(images, start=first_page):\n",
    "    img.save(f\"page_{i}.png\")"
   ]
  },
  {
   "cell_type": "code",
   "execution_count": 8,
   "id": "ff7c8f61",
   "metadata": {},
   "outputs": [
    {
     "name": "stdout",
     "output_type": "stream",
     "text": [
      "\u001b[1m\u001b[36m.\u001b[m\u001b[m          .env       .gitignore \u001b[1m\u001b[36mdata\u001b[m\u001b[m       memo.ipynb page_6.png page_8.png\n",
      "\u001b[1m\u001b[36m..\u001b[m\u001b[m         \u001b[1m\u001b[36m.git\u001b[m\u001b[m       README.md  \u001b[1m\u001b[36mindexing\u001b[m\u001b[m   page_5.png page_7.png \u001b[1m\u001b[36mvenv\u001b[m\u001b[m\n"
     ]
    }
   ],
   "source": [
    "! ls -a"
   ]
  },
  {
   "cell_type": "code",
   "execution_count": 1,
   "id": "3866005b",
   "metadata": {},
   "outputs": [
    {
     "name": "stdout",
     "output_type": "stream",
     "text": [
      "hi\n"
     ]
    }
   ],
   "source": [
    "print(\"hi\")"
   ]
  },
  {
   "cell_type": "code",
   "execution_count": 1,
   "id": "48cfe23a",
   "metadata": {},
   "outputs": [],
   "source": [
    "from transformers import AutoTokenizer"
   ]
  },
  {
   "cell_type": "code",
   "execution_count": null,
   "id": "f0151791",
   "metadata": {},
   "outputs": [],
   "source": [
    "qwen3_embedding_8b"
   ]
  },
  {
   "cell_type": "code",
   "execution_count": null,
   "id": "3e09578a",
   "metadata": {},
   "outputs": [],
   "source": [
    "import json\n",
    "\n",
    "# 1. 기존 JSON 파일 읽기\n",
    "with open('data.json', 'r', encoding='utf-8') as f:\n",
    "    data = json.load(f)\n",
    "\n",
    "# 2. 새로운 데이터 추가\n",
    "# 기존 데이터가 list 형태라면 append\n",
    "if isinstance(data, list):\n",
    "    data.append({\"name\": \"홍길동\", \"age\": 30})\n",
    "# 기존 데이터가 dict 형태라면 key-value 추가\n",
    "elif isinstance(data, dict):\n",
    "    data[\"new_user\"] = {\"name\": \"홍길동\", \"age\": 30}\n",
    "\n",
    "# 3. 다시 저장 (기존 파일 덮어쓰기)\n",
    "with open('data.json', 'w', encoding='utf-8') as f:\n",
    "    json.dump(data, f, ensure_ascii=False, indent=4)\n",
    "\n",
    "print(\"데이터가 추가되었습니다!\")"
   ]
  },
  {
   "cell_type": "code",
   "execution_count": 21,
   "id": "f19966d2",
   "metadata": {},
   "outputs": [],
   "source": [
    "import json\n",
    "from langchain_core.documents import Document\n",
    "\n",
    "with open(\"./data/parsed/pdfplumber.json\", \"r\", encoding=\"utf-8\") as f:\n",
    "    docs_dict = json.load(f) \n",
    "\n",
    "docs = [Document(**d) for d in docs_dict]"
   ]
  },
  {
   "cell_type": "code",
   "execution_count": 27,
   "id": "4664c084",
   "metadata": {},
   "outputs": [
    {
     "name": "stdout",
     "output_type": "stream",
     "text": [
      "기업회 기업회 기업회\n",
      "계기준 계기준 계기준\n",
      "서 제 서 제 서 제\n",
      "1024 1024 1024\n",
      "Harm 호 특 호 특 호 특\n",
      "an 수관계 수관계 수관계\n",
      "Intern 자 범 자 범 자 범\n",
      "ationa 위에 위에 위에\n",
      "l 포함되 포함되 포함되\n",
      "Indust 지 않 지 않 지 않\n",
      "ries, 으나「 으나「 으나「\n",
      "특수관\n",
      "Inc. 독점규 독점규 독점규\n",
      "계의\n",
      "및 그 제 및 제 및 제 및\n",
      "성격에\n",
      "종속기 공정거 공정거 공정거\n",
      "대한\n",
      "업이 래에 래에 래에\n",
      "기술\n",
      "포함된 관한 관한 관한\n",
      "중간지 법률」 법률」 법률」\n",
      "배기업 에 따 에 따 에 따\n",
      "과의 른 동 른 동 른 동\n",
      "거래 일한 일한 일한\n",
      "금액입 대규모 대규모 대규모\n",
      "니다. 기업집 기업집 기업집\n",
      "단 소 단 소 단 소\n",
      "속회사 속회사 속회사\n",
      "입니다 입니다 입니다\n",
      ". . .\n",
      "전분기 (단위 : 백만원)\n",
      "전체 특수관계자\n",
      "특수관계자\n",
      "그 밖의 특수관\n",
      "종속기업 관계기업 및 공동기업 대규모기업집단\n",
      "계자\n",
      "Sams Sams\n",
      "Sams\n",
      "ung ung Sams\n",
      "Sams Sams ung Sams Shang\n",
      "Electr Electr Sams Sams ung Sams Sams\n",
      "Sams Sams ung ung Sams Electr ung hai Sams Sams Thai\n",
      "Sams Sams onics onics ung ung Electr ung ung\n",
      "ung ung (Chin (CHIN ung onics Eletro Sams ung ung Sams Sams Sams Sams\n",
      "ung ung Vietna Europ Electr Displa onics Electr Electr 기타 기타 기타\n",
      "Electr Austin Harm a) A) India HCMC nica ung Electr Electr ung ung ung ung\n",
      "삼성디 Asia Semic m e onics y Europ onics onics 삼성에 삼성 관계기 그 밖 삼성이 대규모\n",
      "onics Semic an과 Semic Invest Electr CE da Semic onics onics Intern Electr Electr 세메스 Japan 삼성전 (주)제 삼성물 (주)에\n",
      "스플레 Pte. onduc THAIN Holdin Vietna Vietna e Mexic Benel 기타 스디에 SDI(주 업 및 의 특 앤에이 기업집\n",
      "Ameri onduc 그 종 onduc ment onics Comp Amaz onduc (UK) Taiwa ationa onics onics ㈜ Corpo 기(주) 일기획 산(주) 스원\n",
      "이㈜ Ltd. tor, GUYE g m m Logist o S.A. ux 스(주) ) 공동기 수관계 (주) 단 소\n",
      "ca, tor 속기업 tor Co., Privat lex onia tor Ltd. n Co., l, Inc. GmbH Co., ration\n",
      "(SAPL Inc. N Coop Co., Co., ics De B.V. 업 자 속회사\n",
      "Inc. LLC. Co., Ltd. e Ltd. Co., Ltda. Co., (SEUK Ltd. (SII) (SEG) Ltd. (SJC)\n",
      ") (SSI) Co., eratief Ltd. Ltd. B.V. C.V. (SEBN\n",
      "(SEA) (SAS) Ltd. (SCIC (SIEL) Ltd. (SEDA Ltd. ) (SET) (TSE)\n",
      "Ltd. U.A. (SEV) (SDV) (SELS (SEM) )\n",
      "(SCS) ) (SEH ) (SSS)\n",
      "(SEVT (SEEH )\n",
      "C)\n",
      ") )\n",
      "매출\n",
      "등, 특 5,751, 7,779, 95,16 6,333, 1,567, 797,6 883,1 445,3 282,9 191,1 1,097, 7,166, 455,9 1,465, 877,0 1,268, 77,03 1,095, 546,1 316,0 14,17 63,61 26,33 27,41 32,88 171,0 126,4 50,18\n",
      "1 17 0 0 2,752 5,638 97 855\n",
      "수관계 594 844 3 302 406 06 24 43 79 57 478 624 76 464 62 209 3 509 29 92 7,349 1 4 4 3 73 90 3\n",
      "자거래\n",
      "전자공시시스템 dart.fss.or.kr Page 158\n",
      "\n"
     ]
    }
   ],
   "source": [
    "print(docs[160].page_content)"
   ]
  },
  {
   "cell_type": "code",
   "execution_count": 8,
   "id": "3fe97050",
   "metadata": {},
   "outputs": [
    {
     "name": "stdout",
     "output_type": "stream",
     "text": [
      "per-text tokens: [741, 821, 580, 235, 24, 266, 493, 879, 413, 733, 703, 492, 505, 943, 828, 330, 517, 577, 247, 383, 464, 339, 344, 440, 431, 215, 721, 507, 528, 347, 15, 636, 680, 528, 371, 496, 633, 692, 607, 693, 720, 601, 519, 364, 570, 517, 280, 483, 602, 330, 563, 701, 340, 1062, 1455, 1236, 1081, 1206, 1279, 1301, 1110, 884, 780, 725, 646, 674, 707, 719, 717, 1165, 1267, 1166, 932, 1173, 1024, 709, 1198, 996, 1161, 1333, 953, 1161, 524, 881, 882, 605, 630, 898, 317, 459, 701, 528, 562, 724, 580, 640, 563, 543, 705, 618, 610, 628, 1336, 579, 887, 1337, 839, 1097, 620, 674, 577, 1002, 1258, 853, 1424, 707, 414, 400, 624, 557, 1143, 1155, 1267, 969, 909, 1062, 834, 2449, 828, 918, 506, 559, 487, 510, 580, 847, 558, 504, 557, 634, 517, 407, 753, 619, 495, 645, 753, 617, 607, 683, 1224, 577, 965, 1049, 415, 987, 472, 549, 699, 1398, 1181, 883, 582, 3032, 1168, 2363, 804, 472, 448, 540, 380, 810, 717, 549, 560, 753, 57, 491, 172, 1901, 1006, 798, 594, 391, 1047, 275, 791, 434, 673, 503, 579, 245, 844, 830, 1005, 676, 680, 467, 293, 473, 78, 643, 820, 643, 639, 1104, 788, 745, 224, 444, 233, 691, 28, 900, 888, 55, 1185, 1470, 332, 390, 242, 473, 552, 468, 888, 1242, 1500, 1458, 1537, 1476, 1587, 1399, 1689, 1646, 1659, 1573, 1601, 1661, 1476, 1511, 1455, 1377, 1595, 1458, 1427, 1526, 1422, 1531, 1649, 1541, 1545, 1462, 1396, 1401, 1501, 1412, 1561, 1474, 1567, 1541, 1577, 1560, 1503, 1472, 1419, 1464, 1348, 234, 67, 70, 1950, 663, 627, 275, 1882, 1145, 201, 1283, 1148, 1207, 1013, 1248, 1348, 1409, 1428, 1411, 1364, 1316, 1180, 1300, 1187, 1280, 1085, 1261, 1171, 1274, 1398, 1393, 1481, 1480, 1194, 43]\n",
      "total tokens: 262902\n"
     ]
    }
   ],
   "source": [
    "from transformers import AutoTokenizer\n",
    "\n",
    "MODEL_ID = \"Qwen/Qwen3-Embedding-8B\"\n",
    "\n",
    "tokenizer = AutoTokenizer.from_pretrained(MODEL_ID, padding_side=\"left\")\n",
    "\n",
    "texts = [doc.page_content for doc in docs]\n",
    "\n",
    "# truncation=True로 설정하면 모델 컨텍스트(32k) 초과분은 잘립니다.\n",
    "enc = tokenizer(\n",
    "    texts,\n",
    "    padding=False,        # 배치 토큰 합산이 아니라 각 문장 실제 토큰 수를 보려면 False\n",
    "    truncation=True,\n",
    "    return_attention_mask=False,\n",
    "    add_special_tokens=True,  # [BOS]/[EOS] 등 모델이 기대하는 스페셜 토큰 포함\n",
    ")\n",
    "\n",
    "# 각 입력의 실제 토큰 수\n",
    "token_counts = [len(ids) for ids in enc[\"input_ids\"]]\n",
    "total_tokens = sum(token_counts)\n",
    "\n",
    "print(\"per-text tokens:\", token_counts)\n",
    "print(\"total tokens:\", total_tokens)"
   ]
  },
  {
   "cell_type": "code",
   "execution_count": 12,
   "id": "143ba546",
   "metadata": {},
   "outputs": [
    {
     "data": {
      "image/png": "[encoded data removed]",
      "text/plain": [
       "<Figure size 1200x400 with 1 Axes>"
      ]
     },
     "metadata": {},
     "output_type": "display_data"
    }
   ],
   "source": [
    "import matplotlib.pyplot as plt\n",
    "\n",
    "plt.figure(figsize=(12, 4))\n",
    "plt.bar(range(len(token_counts)), token_counts)\n",
    "plt.xlabel(\"Document Index\")     # 문서 인덱스\n",
    "plt.ylabel(\"Token Count\")        # 토큰 수\n",
    "plt.title(\"Token Length per Document\")  # 문서별 토큰 길이\n",
    "plt.show()"
   ]
  },
  {
   "cell_type": "code",
   "execution_count": 11,
   "id": "16bf56ff",
   "metadata": {},
   "outputs": [
    {
     "name": "stdout",
     "output_type": "stream",
     "text": [
      "/Users/jeongho/git/samsung-qreport-rag/venv/lib/python3.12/site-packages/matplotlib/mpl-data/matplotlibrc\n"
     ]
    }
   ],
   "source": [
    "import matplotlib as mpl\n",
    "\n",
    "print(mpl.matplotlib_fname())"
   ]
  },
  {
   "cell_type": "markdown",
   "id": "68136ea3",
   "metadata": {},
   "source": [
    "### 특수관계자\n",
    "\n",
    "| 구분 | 종속기업 | 관계기업 및 공동기업 | 그 밖의 특수관계자 | 대규모기업집단 |\n",
    "|------|----------|----------------------|--------------------|----------------|\n",
    "| 매출 등, 특수관계자거래 | 51,794,992 | 371,307 | 150,404 | 57,270 |\n",
    "| 비유동자산 처분, 특수관계자거래 | 7,939 | 185 | 0 | 0 |\n",
    "| 매입 등, 특수관계자거래 | 25,571,388 | 1,091,365 | 191,985 | 135,564 |\n",
    "| 비유동자산 매입, 특수관계자거래 | 5,701 | 84,403 | 1,002,295 | 816,495 |\n",
    "\n",
    "> 기업회계기준서 제1024호 특수관계자 범위에 포함되지 않으나 「독점규제 및 공정거래에 관한 법률」에 따른 동일한 대규모기업집단 소속회사임입니다.\n",
    "\n",
    "(단위 : 백만원)\n",
    "\n",
    "---\n",
    "\n",
    "### 전분기\n",
    "\n",
    "| 구분 | 종속기업 | 관계기업 및 공동기업 | 그 밖의 특수관계자 | 대규모기업집단 |\n",
    "|------|----------|----------------------|--------------------|----------------|\n",
    "| 매출 등, 특수관계자거래 | 52,673,213 | 321,315 | 132,128 | 51,135 |\n",
    "| 비유동자산 처분, 특수관계자거래 | 16,244 | 122 | 0 | 0 |\n",
    "| 매입 등, 특수관계자거래 | 25,294,767 | 1,166,884 | 204,415 | 164,070 |\n",
    "| 비유동자산 매입, 특수관계자거래 | 5,191 | 66,542 | 1,080,956 | 614,082 |\n",
    "\n",
    "> 기업회계기준서 제1024호 특수관계자 범위에 포함되지 않으나 「독점규제 및 공정거래에 관한 법률」에 따른 동일한 대규모기업집단 소속회사임입니다."
   ]
  },
  {
   "cell_type": "markdown",
   "id": "ec598a75",
   "metadata": {},
   "source": [
    "기업회계기준서 제1024호 특수관계자 범위에 포함되지 않으나 「독점규제 및 공정거래에 관한 법률」에 따른 동일한 대규모기업집단 소속회사입니다.\n",
    "\n",
    "전분기 (단위 : 백만원)\n",
    "\n",
    "| 전체 특수관계자 | 특수관계자 | 종속기업 | 관계기업 및 공동기업 | 그 밖의 특수관계자 | 대규모기업집단 |\n",
    "|----------------|-----------|----------|----------------------|--------------------|----------------|\n",
    "| 삼성전자 Austin | Harman | 삼성전자(China) | 삼성전자(CHINA) | 삼성전자 India | HCMC Vietnam | Samsung Electronics CE Europe | 삼성전자 Mexico | Benelux | 삼성SDI(주) | 삼성디스플레이(주) | 삼성전기(주) | 세메스(주) | 삼성물산(주) | 제일기획(주) | 에스원(주) | ... | ... |\n",
    "| 매출 등, 특수관계자거래 | 5,751,594 | 7,779,844 | 95,163 | 6,333,302 | 1,567,406 | 797,606 | 883,124 | 445,397 | 282,979 | 191,197 | 1,097,478 | 7,166,624 | 455,976 | 1,465,464 | 877,062 | 1,268,209 | 77,033 | 1,095,509 | 546,129 | 316,092 | 14,177,349 | 63,611 | 26,334 | 27,414 | 32,883 | 171,073 | 126,490 | 50,188 |"
   ]
  },
  {
   "cell_type": "markdown",
   "id": "70a11360",
   "metadata": {},
   "source": []
  },
  {
   "cell_type": "code",
   "execution_count": null,
   "id": "e26e656e",
   "metadata": {},
   "outputs": [],
   "source": []
  },
  {
   "cell_type": "code",
   "execution_count": null,
   "id": "6993c6ef",
   "metadata": {},
   "outputs": [],
   "source": []
  }
 ],
 "metadata": {
  "kernelspec": {
   "display_name": "venv",
   "language": "python",
   "name": "python3"
  },
  "language_info": {
   "codemirror_mode": {
    "name": "ipython",
    "version": 3
   },
   "file_extension": ".py",
   "mimetype": "text/x-python",
   "name": "python",
   "nbconvert_exporter": "python",
   "pygments_lexer": "ipython3",
   "version": "3.12.11"
  }
 },
 "nbformat": 4,
 "nbformat_minor": 5
}
