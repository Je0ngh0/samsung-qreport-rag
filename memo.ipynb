{
 "cells": [
  {
   "cell_type": "markdown",
   "id": "0962d08c",
   "metadata": {},
   "source": [
    "apt-get install git\n",
    "mkdir my-volume\n",
    "cd my-volume\n",
    "git clone https://github.com/Je0ngh0/samsung-qreport-rag.git\n",
    "\n",
    "apt install python3.12-venv -y\n",
    "python3 -m venv venv\n",
    "source venv/bin/activate\n",
    "\n",
    "pip install jupyter ipywidgets\n",
    "pip install notebook\n",
    "pip install langchain\n",
    "pip install langchain-community\n",
    "pip install langchain-experimental\n",
    "pip install -qU langchain-huggingface\n",
    "pip install sentence-transformers"
   ]
  },
  {
   "cell_type": "code",
   "execution_count": 1,
   "id": "3866005b",
   "metadata": {},
   "outputs": [
    {
     "name": "stdout",
     "output_type": "stream",
     "text": [
      "hi\n"
     ]
    }
   ],
   "source": [
    "print(\"hi\")"
   ]
  }
 ],
 "metadata": {
  "kernelspec": {
   "display_name": "venv",
   "language": "python",
   "name": "python3"
  },
  "language_info": {
   "codemirror_mode": {
    "name": "ipython",
    "version": 3
   },
   "file_extension": ".py",
   "mimetype": "text/x-python",
   "name": "python",
   "nbconvert_exporter": "python",
   "pygments_lexer": "ipython3",
   "version": "3.12.3"
  }
 },
 "nbformat": 4,
 "nbformat_minor": 5
}
