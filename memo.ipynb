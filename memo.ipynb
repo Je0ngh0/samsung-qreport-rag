{
 "cells": [
  {
   "cell_type": "code",
   "execution_count": null,
   "id": "356d4f20",
   "metadata": {
    "vscode": {
     "languageId": "plaintext"
    }
   },
   "outputs": [],
   "source": [
    "pip install langchain\n",
    "pip install langchain-community\n",
    "pip install langchain-experimental\n",
    "pip install -qU langchain-huggingface\n",
    "pip install sentence-transformers"
   ]
  }
 ],
 "metadata": {
  "language_info": {
   "name": "python"
  }
 },
 "nbformat": 4,
 "nbformat_minor": 5
}
